{
 "cells": [
  {
   "cell_type": "code",
   "execution_count": 1,
   "id": "e2e7d77d",
   "metadata": {},
   "outputs": [
    {
     "data": {
      "text/plain": [
       "{'divide': 'warn', 'over': 'warn', 'under': 'ignore', 'invalid': 'warn'}"
      ]
     },
     "execution_count": 1,
     "metadata": {},
     "output_type": "execute_result"
    }
   ],
   "source": [
    "from sklearn.datasets import load_iris\n",
    "import numpy as np\n",
    "np.random.seed(42)\n",
    "import matplotlib.pyplot as plt\n",
    "import seaborn as sns\n",
    "plt.style.use('ggplot')\n",
    "%matplotlib inline\n",
    "np.seterr(divide='ignore', invalid='ignore')"
   ]
  },
  {
   "cell_type": "markdown",
   "id": "dbfd9336",
   "metadata": {},
   "source": [
    "### Iris Dataset content :\n",
    "- sepal_len\n",
    "- sepal_width\n",
    "- petal_len\n",
    "- petal_width"
   ]
  },
  {
   "cell_type": "code",
   "execution_count": 2,
   "id": "de7a256e",
   "metadata": {},
   "outputs": [],
   "source": [
    "def one_hot(y):\n",
    "    zeros = np.zeros((y.size, y.max() + 1)) # defining zeros with respect to n_labels to n_dim\n",
    "    zeros[np.arange(y.size), y] = 1 # inserting 1. to n_label with respect to n_dim\n",
    "    return zeros"
   ]
  },
  {
   "cell_type": "code",
   "execution_count": 3,
   "id": "5545f83b",
   "metadata": {
    "scrolled": true
   },
   "outputs": [
    {
     "name": "stdout",
     "output_type": "stream",
     "text": [
      "(150, 4) (150,) (150, 3)\n"
     ]
    }
   ],
   "source": [
    "X, y = load_iris(return_X_y=True) # load dataset \n",
    "shuffle = np.random.permutation(X.shape[0])\n",
    "X = X[shuffle]\n",
    "y = y[shuffle]\n",
    "y_ohe = one_hot(y)\n",
    "print(X.shape, y.shape, y_ohe.shape)"
   ]
  },
  {
   "cell_type": "code",
   "execution_count": 4,
   "id": "9e133f47",
   "metadata": {},
   "outputs": [
    {
     "name": "stdout",
     "output_type": "stream",
     "text": [
      "Unique :  [0 1 2]\n",
      "Frequency :  [50 50 50]\n",
      "Freq % :  [33.33333333 33.33333333 33.33333333]\n"
     ]
    }
   ],
   "source": [
    "unique, freq = np.unique(y, return_counts=True)\n",
    "print(\"Unique : \",unique)\n",
    "print(\"Frequency : \",freq)\n",
    "print(\"Freq % : \",(freq)/ freq.sum() * 100)"
   ]
  },
  {
   "cell_type": "markdown",
   "id": "88e65eb5",
   "metadata": {},
   "source": [
    "# Preprocessing :"
   ]
  },
  {
   "cell_type": "code",
   "execution_count": 5,
   "id": "f102e810",
   "metadata": {},
   "outputs": [],
   "source": [
    "class MinMax:\n",
    "    def __init__(self, feat_range=(0,1)):\n",
    "        self.feat_range = feat_range\n",
    "        \n",
    "    def calc(self, X):\n",
    "        self.X = X\n",
    "        dataMin, dataMax = np.min(X, axis=0), np.max(X, axis=0)\n",
    "        self.dataMin, self.dataMax = dataMin, dataMax\n",
    "        return self\n",
    "    \n",
    "    def scale(self, X):\n",
    "        self.X = X\n",
    "        dataMin, dataMax = self.dataMin, self.dataMax\n",
    "        assert dataMin.shape[0] == X.shape[1], \"Shape is not the same as during calculate function\"\n",
    "        X_scaled = (X - dataMin) / (dataMax - dataMin)\n",
    "        X_scaled[X_scaled == np.nan] = 0.\n",
    "        return X_scaled\n",
    "    \n",
    "class Standardize: # Z-Score\n",
    "    def __init__(self, with_mu = True, with_std = True):\n",
    "        self.with_mu = True\n",
    "        self.with_std = True\n",
    "        \n",
    "    def calc(self, X):\n",
    "        self.X = X\n",
    "        if self.with_mu == True :\n",
    "            X_mu = np.mean(X, axis=0)\n",
    "        else:\n",
    "            X_mu = np.zeros(X.shape[1])\n",
    "        if self.with_std == True:\n",
    "            X_std = np.std(X, axis=0)\n",
    "        else:\n",
    "            X_std = np.full((X.shape[1]), 1)  \n",
    "        self.X_std, self.X_mu = X_std, X_mu\n",
    "        return self\n",
    "        \n",
    "    def scale(self, X):\n",
    "        X_mu, X_std = self.X_mu, self.X_std\n",
    "        assert X_mu.shape[0] == X.shape[1], \"Shape is not the same as during calculate function\"\n",
    "        Z_Score =  (X - X_mu) / X_std\n",
    "        Z_Score[Z_Score == np.nan] = 0.\n",
    "        return Z_Score\n",
    "    \n",
    "class QuantizedScaling:\n",
    "    def __init__(self, scaling_range=(0.2, 0.8)):\n",
    "        self.scaling_range = scaling_range\n",
    "        \n",
    "    def calc(self, X):\n",
    "        self.X = X\n",
    "        q1 = np.quantile(X, self.scaling_range[0], axis=0)\n",
    "        med = np.median(X, axis=0)\n",
    "        q3 = np.quantile(X, self.scaling_range[1], axis=0)\n",
    "        self.q1, self.med, self.q3 = q1, med, q3\n",
    "        return self\n",
    "    \n",
    "    def scale(self, X):\n",
    "        X, q1, med, q3 = self.X , self.q1, self.med, self.q3\n",
    "        assert q1.shape[0] == X.shape[1], \"Shape is not the same as calc function\"\n",
    "        X_scaled = (X - med) / (q3 - q1)\n",
    "        X_scaled[X_scaled==np.nan] = 0.\n",
    "        return X_scaled"
   ]
  },
  {
   "cell_type": "code",
   "execution_count": 6,
   "id": "59e907db",
   "metadata": {},
   "outputs": [],
   "source": [
    "mm = MinMax()\n",
    "mm.calc(X)\n",
    "mm_sc = mm.scale(X)\n",
    "\n",
    "z_score = Standardize()\n",
    "z_score.calc(X)\n",
    "z_sc = z_score.scale(X)\n",
    "q_scale = QuantizedScaling()\n",
    "q_scale.calc(X)\n",
    "q_sc = q_scale.scale(X)"
   ]
  },
  {
   "cell_type": "code",
   "execution_count": 7,
   "id": "3e7eab78",
   "metadata": {},
   "outputs": [
    {
     "data": {
      "image/png": "[encoded data removed]",
      "text/plain": [
       "<Figure size 576x360 with 1 Axes>"
      ]
     },
     "metadata": {
      "needs_background": "light"
     },
     "output_type": "display_data"
    }
   ],
   "source": [
    "plt.figure(figsize=(8,5))\n",
    "plt.title('Scaling')\n",
    "sns.histplot(mm_sc[:, 0], label='Min-Max Scaling', color='b', kde=True)\n",
    "sns.histplot(q_sc[:, 0], label='Quantized Scaling', color='r', kde=True)\n",
    "sns.histplot(z_sc[:, 0], label='Z Scaling', color='g', kde=True)\n",
    "plt.legend();"
   ]
  },
  {
   "cell_type": "markdown",
   "id": "331cbbd0",
   "metadata": {},
   "source": [
    "# Activation function :"
   ]
  },
  {
   "cell_type": "code",
   "execution_count": 8,
   "id": "9ce07e6e",
   "metadata": {},
   "outputs": [],
   "source": [
    "class Layer :\n",
    "    def __init__(self, inputNodes, outputNodes):\n",
    "        self.inNodes = inputNodes\n",
    "        self.outNodes = outputNodes"
   ]
  },
  {
   "cell_type": "code",
   "execution_count": 9,
   "id": "fec565cd",
   "metadata": {},
   "outputs": [],
   "source": [
    "class Linear(Layer):\n",
    "    def __init__(self, inNodes, outNodes, use_bias=True, w_init=\"normal\"):\n",
    "        super().__init__(inNodes, outNodes)\n",
    "        self.use_bias = use_bias\n",
    "        self.w_init = w_init\n",
    "        \n",
    "    def init_weights(self):\n",
    "        inNodes, outNodes = self.inNodes, self.outNodes\n",
    "        w_init = self.w_init.lower()\n",
    "        \n",
    "        if w_init == \"normal\":\n",
    "            w = np.random.normal(loc=0., scale=0.1, size=(outNodes, inNodes))\n",
    "        elif w_init == \"uniform\":\n",
    "            w = np.random.uniform(low=0., high=1., size=(outNodes, inNodes))\n",
    "        else :\n",
    "            raise ValueError(\"Weights initializer is not valid\")\n",
    "            \n",
    "        if self.use_bias:\n",
    "            b = np.zeros((inNodes, 1))\n",
    "            return w, b\n",
    "        else :\n",
    "            return w"
   ]
  },
  {
   "cell_type": "code",
   "execution_count": 10,
   "id": "695fab7f",
   "metadata": {},
   "outputs": [],
   "source": [
    "class Activation(object):\n",
    "    def __init__(self, z):\n",
    "        self.z = z\n",
    "        \n",
    "class ReLU(Activation):\n",
    "    def __init__(self, z):\n",
    "        super().__init__(z)\n",
    "    \n",
    "    def forward(self): # f(x) = { z <= 0 = 0, z > 0 = z}\n",
    "        z = self.z\n",
    "        return np.maximum(0, z) \n",
    "    \n",
    "    def backward(self): # f'(x) = { z <= 0 = 0, z > 0 = 1}\n",
    "        z = self.z \n",
    "        z[z<=0] = 0\n",
    "        z[z>0] = 1\n",
    "        return z\n",
    "\n",
    "class Sigmoid(Activation):\n",
    "    def __init__(self, z):\n",
    "        super().__init__(z)\n",
    "        \n",
    "    def forward(self): # f(x) = 1 / ( 1 + e^-x)\n",
    "        z = self.z\n",
    "        return 1 / (1 + np.exp(-z)) \n",
    "    \n",
    "    def backward(self): # f'(x) = sigmoid(x) - ( 1 - sigmoid(x)) \n",
    "        z = self.z\n",
    "        return self.forward() - (1 - self.forward())\n",
    "    \n",
    "class Tanh(Activation):\n",
    "    def __init__(self, z):\n",
    "        super().__init__(z)\n",
    "        \n",
    "    def forward(self): # f(x) = (e^x - e^-x) / (e^x + e^-x)\n",
    "        z = self.z\n",
    "        return (np.exp(z) - np.exp(-z)) / (np.exp(z) + np.exp(-z)) \n",
    "    \n",
    "    def backward(self): # f'(x) = 1 - tanh^2(x)\n",
    "        z = self.z\n",
    "        return 1. - self.forward(z) ** 2 \n",
    "    \n",
    "class Softmax(Activation):\n",
    "    def __init__(self, z):\n",
    "        super().__init__(z)\n",
    "    \n",
    "    def forward(self):\n",
    "        z = self.z\n",
    "        exp_z = np.exp(z)\n",
    "        return exp_z / np.sum(exp_z)\n",
    "    \n",
    "    def backward(self):\n",
    "        z = self.z\n",
    "        jacob = np.diag(z)\n",
    "        for i in range(len(jacob)):\n",
    "            for j in range(len(jacob)):\n",
    "                if i == j:\n",
    "                    jacob[i][j] = z[i] * (1 - z[i])\n",
    "                else :\n",
    "                    jacob[i][j] = -z[i] * z[j]\n",
    "        return jacob\n",
    "\n",
    "class Softplus(Activation):\n",
    "    def __init__(self, z):\n",
    "        super().__init__(z)\n",
    "        \n",
    "    def forward(self):\n",
    "        z = self.z\n",
    "        return np.log( 1 + np.exp(z))\n",
    "    \n",
    "    def backward(self):\n",
    "        z = self.z\n",
    "        return np.exp(x) / ( 1 + np.exp(x))\n",
    "    \n",
    "class Softminus(Activation):\n",
    "    def __init__(self, z):\n",
    "        super().__init__(z)\n",
    "        \n",
    "    def forward(self):\n",
    "        z = self.z\n",
    "        sp = np.log(1 + np.exp(z))\n",
    "        return z - sp\n",
    "    \n",
    "#     def backward(self):"
   ]
  },
  {
   "cell_type": "code",
   "execution_count": 12,
   "id": "704176a6",
   "metadata": {},
   "outputs": [],
   "source": [
    "class Activation:\n",
    "    def __init__(self, inputNodes, activation: str =None):\n",
    "        self.inputNodes = inputNodes\n",
    "        self.activation = activation\n",
    "    def sigmoid(self):\n",
    "        return 1 / ( 1 + np.exp(-self) )\n",
    "\n",
    "    def tanh(self):\n",
    "        return ( np.exp(self) - np.exp(-self) ) / ( np.exp(self) + np.exp(-self) )\n",
    "\n",
    "    def relu(self):\n",
    "        return np.maximum(0, self)\n",
    "\n",
    "    def softmax(self):\n",
    "        exp_x = np.exp(self.inputNodes)\n",
    "        return exp_x / np.sum(exp_x)\n",
    "    \n",
    "    def sigmoid_derivative(self):\n",
    "        return np.exp(-x) / ( 1 + np.exp(-x)) ** 2\n",
    "    \n",
    "    def tanh_derivative():\n",
    "        pass"
   ]
  },
  {
   "cell_type": "code",
   "execution_count": 13,
   "id": "18c3b7e3",
   "metadata": {},
   "outputs": [],
   "source": [
    "def relu_derivative(x):\n",
    "    x[x<=0] = 0\n",
    "    x[x>1] = 1\n",
    "    return x\n",
    "\n",
    "def sigmoid_derivative(x):\n",
    "    return np.exp(-x) / ( 1 + np.exp(-x)) ** 2\n",
    "\n",
    "def tanh_derivative(x):\n",
    "    return 1 - np.tanh(x) ** 2\n",
    "\n",
    "def softmax_derivative(x):\n",
    "    err = np.zeros(x.shape)\n",
    "    np.tile(x.T, )"
   ]
  },
  {
   "cell_type": "code",
   "execution_count": 17,
   "id": "a2a2a2d7",
   "metadata": {},
   "outputs": [],
   "source": [
    "class ActivationLayer:\n",
    "    def __init__(self, activation, activation_der):\n",
    "        self.activation = activation\n",
    "        self.activation_der = activation_der\n",
    "        \n",
    "    def forward(self):\n",
    "        pass"
   ]
  },
  {
   "cell_type": "code",
   "execution_count": 18,
   "id": "a194ee55",
   "metadata": {},
   "outputs": [],
   "source": [
    "z = Sigmoid(X).forward()\n",
    "z_back = Sigmoid(z).backward()"
   ]
  },
  {
   "cell_type": "markdown",
   "id": "1af15222",
   "metadata": {},
   "source": [
    "# Loss Function :"
   ]
  },
  {
   "cell_type": "code",
   "execution_count": 19,
   "id": "f0950b44",
   "metadata": {},
   "outputs": [],
   "source": [
    "class Loss:\n",
    "    def __init__(self, y_true, y_hat):\n",
    "        self.y_true = y_true\n",
    "        self.y_hat = y_hat\n",
    "        \n",
    "class CategoricalCrossentropy(Loss):\n",
    "    def __init__(self):\n",
    "        super().__init__(y_true, y_hat)\n",
    "        \n",
    "    def calc_loss(self):\n",
    "        loss = -  (y_true - np.log(y_pred))\n",
    "        return loss.sum()"
   ]
  },
  {
   "cell_type": "markdown",
   "id": "207fa711",
   "metadata": {},
   "source": [
    "### Parameters definition : \n",
    "- layer 1 : 32 nodes / neurons\n",
    "- layer 2 : 8 nodes / neuron\n",
    "- out : 3 nodes (softmax prob)"
   ]
  },
  {
   "cell_type": "markdown",
   "id": "d4d3b97a",
   "metadata": {},
   "source": [
    "# Neural Network :"
   ]
  },
  {
   "cell_type": "code",
   "execution_count": 21,
   "id": "be8e6f2c",
   "metadata": {},
   "outputs": [],
   "source": [
    "class Linear :\n",
    "    def __init__(self, inNodes, outNodes, use_bias=True, w_init=\"normal\"):\n",
    "        self.inNodes = inNodes\n",
    "        self.outNodes = outNodes\n",
    "        self.use_bias = use_bias\n",
    "        self.w_init = w_init\n",
    "        \n",
    "    def init_weights(self):\n",
    "        inNodes, outNodes = self.inNodes, self.outNodes\n",
    "        w_init = self.w_init.lower()\n",
    "        \n",
    "        if w_init == \"normal\":\n",
    "            w = np.random.normal(loc=0., scale=0.1, size=(outNodes, inNodes))\n",
    "        elif w_init == \"uniform\":\n",
    "            w = np.random.uniform(low=0., high=1., size=(outNodes, inNodes))\n",
    "        else :\n",
    "            raise ValueError(\"Weights initializer is not valid\")\n",
    "            \n",
    "        if self.use_bias:\n",
    "            b = np.zeros((inNodes, 1))\n",
    "            return w, b\n",
    "        else :\n",
    "            return w"
   ]
  },
  {
   "cell_type": "code",
   "execution_count": 22,
   "id": "cf057c96",
   "metadata": {},
   "outputs": [],
   "source": [
    "mm = MinMax()\n",
    "mm.calc(X)\n",
    "X_sc = mm.scale(X)"
   ]
  },
  {
   "cell_type": "markdown",
   "id": "632f16c5",
   "metadata": {},
   "source": [
    "# Feedforward :\n",
    "### Linear :\n",
    "- param 1 : inputs from n - 1 \n",
    "- param 2 : current nodes"
   ]
  },
  {
   "cell_type": "code",
   "execution_count": null,
   "id": "462bfebd",
   "metadata": {},
   "outputs": [],
   "source": [
    "input_shape = X_sc.shape[1]\n",
    "\n",
    "w1 = Linear(input_shape, 32, use_bias=False).init_weights()\n",
    "z1 = np.matmul(w1, X_sc.T)\n",
    "z1 = ReLU(z1).forward()\n",
    "\n",
    "w2 = Linear(32, 8, use_bias=False).init_weights()  \n",
    "z2 = np.matmul(w2, z1)\n",
    "z2 = ReLU(z2).forward()\n",
    "\n",
    "w3 = Linear(8, 3, use_bias=False).init_weights()\n",
    "out = np.matmul(w3, z2)\n",
    "out = Softmax(out).forward()"
   ]
  },
  {
   "cell_type": "code",
   "execution_count": null,
   "id": "994d22b2",
   "metadata": {},
   "outputs": [],
   "source": [
    "class Network:\n",
    "    def __init__(self, inputShape, outputShape):\n",
    "        self.layers = []\n",
    "        self.inputShape = inputShape\n",
    "        self.outputShape = outputShape\n",
    "        self.loss = None\n",
    "        self.lossPrime = None\n",
    "        \n",
    "    def connect(self, layer):\n",
    "        self.layers.append(layer)"
   ]
  },
  {
   "cell_type": "code",
   "execution_count": null,
   "id": "c0fb99d8",
   "metadata": {},
   "outputs": [],
   "source": [
    "X.shape, y_ohe.shape"
   ]
  },
  {
   "cell_type": "code",
   "execution_count": null,
   "id": "c6b83c4e",
   "metadata": {},
   "outputs": [],
   "source": [
    "net = Network(4, 3)\n",
    "net.connect(Linear(input_shape, 32, use_bias=False).init_weights())\n",
    "net.connect(Linear(32, 8, use_bias=False).init_weights())\n",
    "net.connect(Linear(8, 3, use_bias=False).init_weights())"
   ]
  },
  {
   "cell_type": "code",
   "execution_count": null,
   "id": "14a581b3",
   "metadata": {},
   "outputs": [],
   "source": [
    "for i in net.layers:\n",
    "    print(i.shape)"
   ]
  },
  {
   "cell_type": "code",
   "execution_count": null,
   "id": "14f6e4be",
   "metadata": {},
   "outputs": [],
   "source": [
    "IN_DIM = X.shape[0]\n",
    "h_nodes = [32, 8]\n",
    "input_shape = X.shape[1]"
   ]
  },
  {
   "cell_type": "code",
   "execution_count": null,
   "id": "c7cbcc71",
   "metadata": {},
   "outputs": [],
   "source": [
    "w1.shape"
   ]
  },
  {
   "cell_type": "code",
   "execution_count": null,
   "id": "150b7c45",
   "metadata": {},
   "outputs": [],
   "source": [
    "# w params : shape=(num_layers , layer n-1)\n",
    "\n",
    "w1 = np.random.normal(loc=0, scale=0.1, size=(32, input_shape))  # num_nodes, n_cols_data\n",
    "w2 = np.random.normal(loc=0, scale=0.1, size=(8, 32)) # num_nodes n-1, num_nodes n\n",
    "out = np.random.normal(loc=0, scale=0.1, size=(y_ohe.shape[1], 8))\n",
    "\n",
    "z1 = np.matmul(w1, X_sc.T)\n",
    "z1 = ReLU(z1).forward()\n",
    "\n",
    "z2 = np.matmul(w2, z1)\n",
    "z2 = ReLU(z2).forward()\n",
    "\n",
    "yhat = np.matmul(out, z2)\n",
    "yhat = Softmax(yhat).forward()"
   ]
  },
  {
   "cell_type": "code",
   "execution_count": null,
   "id": "d920bc97",
   "metadata": {},
   "outputs": [],
   "source": [
    "yhat.shape, "
   ]
  },
  {
   "cell_type": "code",
   "execution_count": null,
   "id": "854c3b96",
   "metadata": {},
   "outputs": [],
   "source": [
    "class SmallNet:\n",
    "    def __init__(self, X, y):\n",
    "        self.X = X\n",
    "        self.y = y\n",
    "    \n",
    "    def "
   ]
  },
  {
   "cell_type": "code",
   "execution_count": null,
   "id": "5a6f2678",
   "metadata": {
    "scrolled": true
   },
   "outputs": [],
   "source": [
    "net = NeuralNetwork([64, 32, 16, 4])"
   ]
  },
  {
   "cell_type": "code",
   "execution_count": null,
   "id": "5e54d2df",
   "metadata": {},
   "outputs": [],
   "source": [
    "def relu(x):\n",
    "    return np.maximum(0, x)\n",
    "\n",
    "def softmax(x):\n",
    "    e_x = np.exp(x)\n",
    "    return e_x / e_x.sum()\n",
    "\n",
    "def log_softmax(x):\n",
    "    e_x = np.exp(x)\n",
    "    return np.log(e_x / e_x.sum())"
   ]
  },
  {
   "cell_type": "code",
   "execution_count": null,
   "id": "41ab88e7",
   "metadata": {},
   "outputs": [],
   "source": [
    "class NeuralNetwork:\n",
    "    def __init__(self, numLayers):\n",
    "        self.params = []\n",
    "        self.W1 = np.random.normal((numLayers[0], numLayers[1]))\n",
    "        self.b1 = np.zeros((1, numLayers[1]))\n",
    "        \n",
    "        self.W2 = np.random.normal((numLayers[2], numLayers[1]))\n",
    "        self.b2 = np.zeros((1, numLayers[2]))\n",
    "        \n",
    "        self.W3 = np.random.normal((numLayers[3], numLayers[2]))\n",
    "        self.b3 = np.zeros((1, numLayers[3]))\n",
    "        \n",
    "        self.params = np.array([self.W1, self.b1, self.W2, self.b2, self.W3, self.b3])\n",
    "        \n",
    "    def forward(self, x):\n",
    "        x = np.array(x).astype(np.float32)\n",
    "        z1 = np.matmul(x, self.W1) + sel.b1\n",
    "        z1 = relu(z1)\n",
    "        z2 = np.matmul(z1, self.W2) + sel.b2\n",
    "        z2 = relu(z2)\n",
    "        z3 = np.matmul(z2, self.W3) + sel.b3\n",
    "        z3 = log_softmax(z3)\n",
    "        return z3"
   ]
  },
  {
   "cell_type": "code",
   "execution_count": null,
   "id": "ddf44bc6",
   "metadata": {},
   "outputs": [],
   "source": []
  }
 ],
 "metadata": {
  "kernelspec": {
   "display_name": "Python 3",
   "language": "python",
   "name": "python3"
  },
  "language_info": {
   "codemirror_mode": {
    "name": "ipython",
    "version": 3
   },
   "file_extension": ".py",
   "mimetype": "text/x-python",
   "name": "python",
   "nbconvert_exporter": "python",
   "pygments_lexer": "ipython3",
   "version": "3.8.8"
  }
 },
 "nbformat": 4,
 "nbformat_minor": 5
}
