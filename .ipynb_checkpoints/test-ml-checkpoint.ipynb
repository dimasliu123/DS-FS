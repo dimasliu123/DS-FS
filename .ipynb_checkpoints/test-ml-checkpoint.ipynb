{
 "cells": [
  {
   "cell_type": "code",
   "execution_count": 1,
   "id": "39090cec",
   "metadata": {},
   "outputs": [],
   "source": [
    "from algo import preprocess, distance, ml_supervised \n",
    "from sklearn.datasets import load_breast_cancer, load_iris # load dataset\n",
    "from sklearn.model_selection import train_test_split # split into train and test\n",
    "from sklearn.metrics import classification_report # classication report for model evaluation\n",
    "\n",
    "# Breast Cancer dataset for binary classification (0 or 1) \n",
    "# Iris dataset for categorical classification (multiclass), eg. Specifically for Softmax Regression, \n",
    "# Since Softmax Regression handle multiclass problem"
   ]
  },
  {
   "cell_type": "markdown",
   "id": "a83def7b",
   "metadata": {},
   "source": [
    "# Load Datasets :"
   ]
  },
  {
   "cell_type": "code",
   "execution_count": 2,
   "id": "686fbf21",
   "metadata": {},
   "outputs": [],
   "source": [
    "breast_cancer = load_breast_cancer()\n",
    "X_bc, y_bc = breast_cancer.data, breast_cancer.target\n",
    "\n",
    "X_train_bc, X_test_bc, y_train_bc, y_test_bc = train_test_split(X_bc, y_bc, test_size=0.15, random_state=2022)\n",
    "\n",
    "iris = load_iris()\n",
    "X_iris, y_iris = iris.data, iris.target\n",
    "\n",
    "X_train_iris, X_test_iris, y_train_iris, y_test_iris = train_test_split(X_iris, y_iris, test_size=0.15, random_state=2022)"
   ]
  },
  {
   "cell_type": "markdown",
   "id": "e6152f19",
   "metadata": {},
   "source": [
    "# Preprocess :"
   ]
  },
  {
   "cell_type": "code",
   "execution_count": 3,
   "id": "c01fd89a",
   "metadata": {},
   "outputs": [],
   "source": [
    "sc_bc = preprocess.Standardize()\n",
    "sc_bc.calc(X_train_bc)\n",
    "\n",
    "sc_train_bc = sc_bc.scale(X_train_bc)\n",
    "sc_test_bc = sc_bc.scale(X_test_bc)\n",
    "\n",
    "\n",
    "sc_iris = preprocess.Standardize()\n",
    "sc_iris.calc(X_train_iris)\n",
    "\n",
    "sc_train_iris = sc_iris.scale(X_train_iris)\n",
    "sc_test_iris = sc_iris.scale(X_test_iris)"
   ]
  },
  {
   "cell_type": "markdown",
   "id": "8a30a0a9",
   "metadata": {},
   "source": [
    "# Supervised Machine Learning :"
   ]
  },
  {
   "cell_type": "markdown",
   "id": "ab80bcea",
   "metadata": {},
   "source": [
    "## Binary Classification :"
   ]
  },
  {
   "cell_type": "markdown",
   "id": "8fd66166",
   "metadata": {},
   "source": [
    "### Naive Bayes :"
   ]
  },
  {
   "cell_type": "code",
   "execution_count": 4,
   "id": "095d63b6",
   "metadata": {},
   "outputs": [],
   "source": [
    "nb = ml_supervised.NaiveBayes()\n",
    "nb.fit(sc_train_bc, y_train_bc)\n",
    "\n",
    "nb_pred_bc = nb.predict(sc_test_bc)"
   ]
  },
  {
   "cell_type": "code",
   "execution_count": 5,
   "id": "d8c8d6c1",
   "metadata": {},
   "outputs": [
    {
     "name": "stdout",
     "output_type": "stream",
     "text": [
      "Naive Bayes Evaluation : \n",
      "              precision    recall  f1-score   support\n",
      "\n",
      "           0       0.89      0.94      0.92        35\n",
      "           1       0.96      0.92      0.94        51\n",
      "\n",
      "    accuracy                           0.93        86\n",
      "   macro avg       0.93      0.93      0.93        86\n",
      "weighted avg       0.93      0.93      0.93        86\n",
      "\n"
     ]
    }
   ],
   "source": [
    "print(\"Naive Bayes Evaluation : \")\n",
    "print(classification_report(y_test_bc, nb_pred_bc))"
   ]
  },
  {
   "cell_type": "markdown",
   "id": "b35b50a5",
   "metadata": {},
   "source": [
    "### Logistic Regression : "
   ]
  },
  {
   "cell_type": "code",
   "execution_count": 6,
   "id": "ea1a29b6",
   "metadata": {},
   "outputs": [],
   "source": [
    "log_reg = ml_supervised.LogisticRegression()\n",
    "log_reg.fit(sc_train_bc, y_train_bc)\n",
    "\n",
    "log_reg_pred = log_reg.predict(sc_test_bc)"
   ]
  },
  {
   "cell_type": "code",
   "execution_count": 7,
   "id": "26e1665f",
   "metadata": {},
   "outputs": [
    {
     "name": "stdout",
     "output_type": "stream",
     "text": [
      "Logistic Regression Evaluation : \n",
      "              precision    recall  f1-score   support\n",
      "\n",
      "           0       0.95      1.00      0.97        35\n",
      "           1       1.00      0.96      0.98        51\n",
      "\n",
      "    accuracy                           0.98        86\n",
      "   macro avg       0.97      0.98      0.98        86\n",
      "weighted avg       0.98      0.98      0.98        86\n",
      "\n"
     ]
    }
   ],
   "source": [
    "print(\"Logistic Regression Evaluation : \")\n",
    "print(classification_report(y_test_bc, log_reg_pred))"
   ]
  },
  {
   "cell_type": "markdown",
   "id": "99f59255",
   "metadata": {},
   "source": [
    "### K-Nearest Neighbor :"
   ]
  },
  {
   "cell_type": "code",
   "execution_count": 8,
   "id": "c0af094e",
   "metadata": {},
   "outputs": [],
   "source": [
    "knn = ml_supervised.KNearestNeighbor()\n",
    "knn.fit(sc_train_bc, y_train_bc)\n",
    "\n",
    "knn_pred = knn.predict(sc_test_bc)"
   ]
  },
  {
   "cell_type": "code",
   "execution_count": 9,
   "id": "f4540835",
   "metadata": {},
   "outputs": [
    {
     "name": "stdout",
     "output_type": "stream",
     "text": [
      "KNN Evaluation :\n",
      "              precision    recall  f1-score   support\n",
      "\n",
      "           0       1.00      0.94      0.97        35\n",
      "           1       0.96      1.00      0.98        51\n",
      "\n",
      "    accuracy                           0.98        86\n",
      "   macro avg       0.98      0.97      0.98        86\n",
      "weighted avg       0.98      0.98      0.98        86\n",
      "\n"
     ]
    }
   ],
   "source": [
    "print(\"KNN Evaluation :\")\n",
    "print(classification_report(y_test_bc, knn_pred))"
   ]
  },
  {
   "cell_type": "markdown",
   "id": "1543fa26",
   "metadata": {},
   "source": [
    "# Multiclass Classification :"
   ]
  },
  {
   "cell_type": "markdown",
   "id": "dbe9397d",
   "metadata": {},
   "source": [
    "### Softmax Regression :"
   ]
  },
  {
   "cell_type": "code",
   "execution_count": 10,
   "id": "42d682d2",
   "metadata": {},
   "outputs": [],
   "source": [
    "sr = ml_supervised.SoftmaxRegression()\n",
    "sr.fit(sc_train_iris, y_train_iris)\n",
    "\n",
    "sr_pred = sr.predict(sc_test_iris)"
   ]
  },
  {
   "cell_type": "code",
   "execution_count": 11,
   "id": "9d8ec7a0",
   "metadata": {
    "scrolled": true
   },
   "outputs": [
    {
     "name": "stdout",
     "output_type": "stream",
     "text": [
      "              precision    recall  f1-score   support\n",
      "\n",
      "           0       1.00      1.00      1.00         7\n",
      "           1       1.00      0.57      0.73         7\n",
      "           2       0.75      1.00      0.86         9\n",
      "\n",
      "    accuracy                           0.87        23\n",
      "   macro avg       0.92      0.86      0.86        23\n",
      "weighted avg       0.90      0.87      0.86        23\n",
      "\n"
     ]
    }
   ],
   "source": [
    "print(classification_report(y_test_iris, sr_pred))"
   ]
  }
 ],
 "metadata": {
  "kernelspec": {
   "display_name": "Python 3",
   "language": "python",
   "name": "python3"
  },
  "language_info": {
   "codemirror_mode": {
    "name": "ipython",
    "version": 3
   },
   "file_extension": ".py",
   "mimetype": "text/x-python",
   "name": "python",
   "nbconvert_exporter": "python",
   "pygments_lexer": "ipython3",
   "version": "3.8.8"
  }
 },
 "nbformat": 4,
 "nbformat_minor": 5
}
