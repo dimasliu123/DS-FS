{
 "cells": [
  {
   "cell_type": "code",
   "execution_count": 1,
   "id": "b76be2aa",
   "metadata": {},
   "outputs": [],
   "source": [
    "import numpy as np\n",
    "from PIL import Image\n",
    "import matplotlib.pyplot as plt\n",
    "%matplotlib inline"
   ]
  },
  {
   "cell_type": "code",
   "execution_count": 2,
   "id": "aa855415",
   "metadata": {},
   "outputs": [],
   "source": [
    "img = Image.open(\"/Users/dimas/Documents/data-science/Computer-Vision/dimasliu1.jpg\")\n",
    "arr = np.array(img)\n",
    "kernel = np.array([[1, 2, 1], [0, 0, 0], [-1, -2, -1]])"
   ]
  },
  {
   "cell_type": "code",
   "execution_count": 8,
   "id": "ed9dd24e",
   "metadata": {},
   "outputs": [],
   "source": [
    "row = [row for row in arr]\n",
    "pix = [pix for row in arr for pix in row]\n",
    "i = [i for i in kernel]\n",
    "j = [j for i in kernel for j in i]"
   ]
  },
  {
   "cell_type": "code",
   "execution_count": 9,
   "id": "3bb0a5bc",
   "metadata": {},
   "outputs": [],
   "source": [
    "row = np.array(row)\n",
    "pix = np.array(pix)\n",
    "i = np.array(i)\n",
    "j = np.array(j)"
   ]
  },
  {
   "cell_type": "code",
   "execution_count": 16,
   "id": "aaeae197",
   "metadata": {},
   "outputs": [
    {
     "ename": "ValueError",
     "evalue": "operands could not be broadcast together with shapes (4000,3000,3) (9,) ",
     "output_type": "error",
     "traceback": [
      "\u001b[0;31m---------------------------------------------------------------------------\u001b[0m",
      "\u001b[0;31mValueError\u001b[0m                                Traceback (most recent call last)",
      "\u001b[0;32m<ipython-input-16-1babced7c950>\u001b[0m in \u001b[0;36m<module>\u001b[0;34m\u001b[0m\n\u001b[0;32m----> 1\u001b[0;31m \u001b[0mmul\u001b[0m \u001b[0;34m=\u001b[0m \u001b[0mnp\u001b[0m\u001b[0;34m.\u001b[0m\u001b[0mmultiply\u001b[0m\u001b[0;34m(\u001b[0m\u001b[0mrow\u001b[0m\u001b[0;34m,\u001b[0m \u001b[0mj\u001b[0m\u001b[0;34m)\u001b[0m\u001b[0;34m\u001b[0m\u001b[0;34m\u001b[0m\u001b[0m\n\u001b[0m",
      "\u001b[0;31mValueError\u001b[0m: operands could not be broadcast together with shapes (4000,3000,3) (9,) "
     ]
    }
   ],
   "source": [
    "mul = np.multiply(row, j)"
   ]
  },
  {
   "cell_type": "code",
   "execution_count": null,
   "id": "a1cd7666",
   "metadata": {},
   "outputs": [],
   "source": []
  }
 ],
 "metadata": {
  "kernelspec": {
   "display_name": "Python 3",
   "language": "python",
   "name": "python3"
  },
  "language_info": {
   "codemirror_mode": {
    "name": "ipython",
    "version": 3
   },
   "file_extension": ".py",
   "mimetype": "text/x-python",
   "name": "python",
   "nbconvert_exporter": "python",
   "pygments_lexer": "ipython3",
   "version": "3.8.8"
  }
 },
 "nbformat": 4,
 "nbformat_minor": 5
}
