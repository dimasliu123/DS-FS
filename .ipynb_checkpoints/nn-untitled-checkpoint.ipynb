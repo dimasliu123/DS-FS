{
 "cells": [
  {
   "cell_type": "code",
   "execution_count": 1,
   "id": "b76be2aa",
   "metadata": {},
   "outputs": [],
   "source": [
    "import numpy as np\n",
    "import matplotlib.pyplot as plt\n",
    "from sklearn.datasets import load_breast_cancer\n",
    "%matplotlib inline"
   ]
  },
  {
   "cell_type": "code",
   "execution_count": 2,
   "id": "c631fee7",
   "metadata": {},
   "outputs": [],
   "source": [
    "def ZScore(x):\n",
    "    return ( x - np.mean(x, axis=0) ) / np.std(x, axis=0)\n",
    "\n",
    "def one_hot(y):\n",
    "    zeros = np.zeros((len(y), len(np.unique(y)))) # defining zeros with respect to n_labels to n_dim\n",
    "    zeros[np.arange(len(y)), y] = 1 # inserting 1. to n_label with respect to n_dim\n",
    "    return zeros"
   ]
  },
  {
   "cell_type": "code",
   "execution_count": 3,
   "id": "70e2743d",
   "metadata": {},
   "outputs": [
    {
     "name": "stdout",
     "output_type": "stream",
     "text": [
      "(569, 30) (569,) (569, 2)\n"
     ]
    }
   ],
   "source": [
    "X, y = load_breast_cancer(return_X_y=True) # load dataset \n",
    "shuffle = np.random.permutation(X.shape[0])\n",
    "X = X[shuffle]\n",
    "X_sc = ZScore(X)\n",
    "y = y[shuffle]\n",
    "y_ohe = one_hot(y)\n",
    "print(X.shape, y.shape, y_ohe.shape)"
   ]
  },
  {
   "cell_type": "code",
   "execution_count": 4,
   "id": "498d9ab2",
   "metadata": {},
   "outputs": [],
   "source": [
    "class Activation:\n",
    "    def __init__(self, z):\n",
    "        self.z = z\n",
    "        \n",
    "class ReLU(Activation):\n",
    "    def __init__(self, z):\n",
    "        super().__init__(z)\n",
    "    \n",
    "    def forward(self): # f(x) = { z <= 0 = 0, z > 0 = z}\n",
    "        z = self.z\n",
    "        return np.maximum(0, z) \n",
    "    \n",
    "    def backward(self): # f'(x) = { z <= 0 = 0, z > 0 = 1}\n",
    "        z = self.z \n",
    "        z[z<=0] = 0\n",
    "        z[z>0] = 1\n",
    "        return z\n",
    "\n",
    "class Sigmoid(Activation):\n",
    "    def __init__(self, z):\n",
    "        super().__init__(z)\n",
    "        \n",
    "    def forward(self): # f(x) = 1 / ( 1 + e^-x)\n",
    "        z = self.z\n",
    "        return 1 / (1 + np.exp(-z)) \n",
    "    \n",
    "    def backward(self): # f'(x) = sigmoid(x) - ( 1 - sigmoid(x)) \n",
    "        z = self.z\n",
    "        return self.forward() - (1 - self.forward())\n",
    "    \n",
    "class Tanh(Activation):\n",
    "    def __init__(self, z):\n",
    "        super().__init__(z)\n",
    "        \n",
    "    def forward(self): # f(x) = (e^x - e^-x) / (e^x + e^-x)\n",
    "        z = self.z\n",
    "        return (np.exp(z) - np.exp(-z)) / (np.exp(z) + np.exp(-z)) \n",
    "    \n",
    "    def backward(self): # f'(x) = 1 - tanh^2(x)\n",
    "        z = self.z\n",
    "        return 1. - self.forward(z) ** 2 \n",
    "    \n",
    "class Softmax(Activation):\n",
    "    def __init__(self, z):\n",
    "        super().__init__(z)\n",
    "    \n",
    "    def forward(self):\n",
    "        z = self.z\n",
    "        exp_z = np.exp(z)\n",
    "        return exp_z / np.sum(exp_z)\n",
    "    \n",
    "    def backward(self):\n",
    "        z = self.z\n",
    "        jacob = np.diag(z)\n",
    "        for i in range(len(jacob)):\n",
    "            for j in range(len(jacob)):\n",
    "                if i == j:\n",
    "                    jacob[i][j] = z[i] * (1 - z[i])\n",
    "                else :\n",
    "                    jacob[i][j] = -z[i] * z[j]\n",
    "        return jacob"
   ]
  },
  {
   "cell_type": "code",
   "execution_count": 5,
   "id": "41014bbb",
   "metadata": {},
   "outputs": [],
   "source": [
    "class Linear:\n",
    "    def __init__(self, inNodes, outNodes, use_bias=True, w_init=\"normal\"):\n",
    "        self.inNodes = inNodes\n",
    "        self.outNodes = outNodes\n",
    "        self.use_bias = use_bias\n",
    "        self.w_init = w_init.lower()\n",
    "        \n",
    "    def init_weights(self):\n",
    "        \n",
    "        if self.use_bias : \n",
    "            if w_init == \"normal\":\n",
    "                w = np.random.normal(loc=0., scale=0.05, size=(self.outNodes, self.inNodes))\n",
    "                b = np.random.normal(loc=0., scale=0.05, size=(self.outNodes))\n",
    "                self.w, self.b = w, b\n",
    "            elif w_init == \"uniform\":\n",
    "                w = np.random.uniform(low=-0.05, high=0.05, size=(self.outNodes, self.inNodes))\n",
    "                b = np.random.uniform(low=-0.05, high=0.05, size=(self.outNodes))\n",
    "                self.w, self.b = w, b\n",
    "            else :\n",
    "                raise ValueError(\"Weights initializer is not valid\")            \n",
    "\n",
    "        else : \n",
    "            if w_init == \"normal\":\n",
    "                w = np.random.normal(loc=0., scale=0.05, size=(self.outNodes, self.inNodes))\n",
    "                self.w = w\n",
    "            elif w_init == \"uniform\":\n",
    "                w = np.random.uniform(low=-0.05, high=0.05, size=(self.outNodes, self.inNodes))\n",
    "                self.w = w\n",
    "            else :\n",
    "                raise ValueError(\"Weights initializer is not valid\")"
   ]
  },
  {
   "cell_type": "code",
   "execution_count": 6,
   "id": "7448aa77",
   "metadata": {
    "scrolled": true
   },
   "outputs": [],
   "source": [
    "inputs = Linear(inNodes = X_sc.shape[1], outNodes = 32)\n",
    "x1 = Linear(inNodes = 32, outNodes = 16)\n",
    "x2 = Linear(inNodes = 16, outNodes= 8)\n",
    "out = Linear(inNodes = 8, outNodes= len(np.unique(y)))"
   ]
  },
  {
   "cell_type": "code",
   "execution_count": 7,
   "id": "9bf962b9",
   "metadata": {},
   "outputs": [
    {
     "ename": "ValueError",
     "evalue": "matmul: Input operand 0 does not have enough dimensions (has 0, gufunc core with signature (n?,k),(k,m?)->(n?,m?) requires 1)",
     "output_type": "error",
     "traceback": [
      "\u001b[0;31m---------------------------------------------------------------------------\u001b[0m",
      "\u001b[0;31mValueError\u001b[0m                                Traceback (most recent call last)",
      "\u001b[0;32m<ipython-input-7-25dfd446305e>\u001b[0m in \u001b[0;36m<module>\u001b[0;34m\u001b[0m\n\u001b[0;32m----> 1\u001b[0;31m \u001b[0mz1\u001b[0m \u001b[0;34m=\u001b[0m \u001b[0mnp\u001b[0m\u001b[0;34m.\u001b[0m\u001b[0mmatmul\u001b[0m\u001b[0;34m(\u001b[0m\u001b[0minputs\u001b[0m\u001b[0;34m,\u001b[0m \u001b[0mx1\u001b[0m\u001b[0;34m)\u001b[0m\u001b[0;34m\u001b[0m\u001b[0;34m\u001b[0m\u001b[0m\n\u001b[0m\u001b[1;32m      2\u001b[0m \u001b[0mz2\u001b[0m \u001b[0;34m=\u001b[0m \u001b[0mnp\u001b[0m\u001b[0;34m.\u001b[0m\u001b[0mmatmul\u001b[0m\u001b[0;34m(\u001b[0m\u001b[0mx1\u001b[0m\u001b[0;34m,\u001b[0m \u001b[0mx2\u001b[0m\u001b[0;34m)\u001b[0m\u001b[0;34m\u001b[0m\u001b[0;34m\u001b[0m\u001b[0m\n",
      "\u001b[0;31mValueError\u001b[0m: matmul: Input operand 0 does not have enough dimensions (has 0, gufunc core with signature (n?,k),(k,m?)->(n?,m?) requires 1)"
     ]
    }
   ],
   "source": [
    "z1 = np.matmul(inputs, x1)\n",
    "z2 = np.matmul(x1, x2)\n"
   ]
  },
  {
   "cell_type": "code",
   "execution_count": null,
   "id": "0604eef2",
   "metadata": {},
   "outputs": [],
   "source": []
  }
 ],
 "metadata": {
  "kernelspec": {
   "display_name": "Python 3",
   "language": "python",
   "name": "python3"
  },
  "language_info": {
   "codemirror_mode": {
    "name": "ipython",
    "version": 3
   },
   "file_extension": ".py",
   "mimetype": "text/x-python",
   "name": "python",
   "nbconvert_exporter": "python",
   "pygments_lexer": "ipython3",
   "version": "3.8.8"
  }
 },
 "nbformat": 4,
 "nbformat_minor": 5
}
