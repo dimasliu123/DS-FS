{
 "cells": [
  {
   "cell_type": "code",
   "execution_count": 1,
   "id": "39090cec",
   "metadata": {},
   "outputs": [],
   "source": [
    "from algo import preprocess, distance, metrics, ml_supervised, neural_nets, nn_activation\n",
    "from sklearn.datasets import load_breast_cancer, load_iris \n",
    "from sklearn.model_selection import train_test_split\n",
    "\n",
    "# Breast Cancer dataset for binary classification (0 or 1) \n",
    "# Iris dataset for categorical classification (multiclass), eg. Specifically for Softmax Regression, \n",
    "# Since Softmax Regression handle multiclass problem"
   ]
  },
  {
   "cell_type": "markdown",
   "id": "a83def7b",
   "metadata": {},
   "source": [
    "# Load Datasets :"
   ]
  },
  {
   "cell_type": "code",
   "execution_count": 2,
   "id": "686fbf21",
   "metadata": {},
   "outputs": [],
   "source": [
    "breast_cancer = load_breast_cancer()\n",
    "X_bc, y_bc = breast_cancer.data, breast_cancer.target\n",
    "\n",
    "X_train_bc, X_val_bc, y_train_bc, y_val_bc = train_test_split(X_bc, y_bc, test_size=0.15, random_state=2022)\n",
    "\n",
    "iris = load_iris()\n",
    "X_iris, y_iris = iris.data, iris.target\n",
    "\n",
    "X_train_iris, X_val_iris, y_train_iris, y_val_iris = train_test_split(X_iris, y_iris, test_size=0.15, random_state=2022)"
   ]
  },
  {
   "cell_type": "markdown",
   "id": "e6152f19",
   "metadata": {},
   "source": [
    "# Preprocess :"
   ]
  },
  {
   "cell_type": "code",
   "execution_count": 3,
   "id": "c01fd89a",
   "metadata": {},
   "outputs": [],
   "source": [
    "sc_bc = preprocess.Standardize()\n",
    "sc_bc.calc(X_train_bc)\n",
    "\n",
    "sc_train_bc = sc_bc.scale(X_train_bc)\n",
    "sc_val_bc = sc_bc.scale(X_val_bc)\n",
    "\n",
    "\n",
    "sc_iris = preprocess.Standardize()\n",
    "sc_iris.calc(X_train_iris)\n",
    "\n",
    "sc_train_iris = sc_iris.scale(X_train_iris)\n",
    "sc_val_iris = sc_iris.scale(X_val_iris)"
   ]
  },
  {
   "cell_type": "markdown",
   "id": "8a30a0a9",
   "metadata": {},
   "source": [
    "# Supervised Machine Learning :"
   ]
  },
  {
   "cell_type": "markdown",
   "id": "ab80bcea",
   "metadata": {},
   "source": [
    "## Binary Classification :"
   ]
  },
  {
   "cell_type": "markdown",
   "id": "8fd66166",
   "metadata": {},
   "source": [
    "### Naive Bayes :"
   ]
  },
  {
   "cell_type": "code",
   "execution_count": 4,
   "id": "095d63b6",
   "metadata": {},
   "outputs": [],
   "source": [
    "nb = ml_supervised.NaiveBayes()\n",
    "nb.fit(sc_train_bc, y_train_bc)\n",
    "\n",
    "nb_pred_bc = nb.predict(sc_val_bc)"
   ]
  },
  {
   "cell_type": "markdown",
   "id": "b35b50a5",
   "metadata": {},
   "source": [
    "### Logistic Regression : "
   ]
  },
  {
   "cell_type": "code",
   "execution_count": 5,
   "id": "ea1a29b6",
   "metadata": {},
   "outputs": [],
   "source": [
    "log_reg = ml_supervised.LogisticRegression()\n",
    "log_reg.fit(sc_train_bc, y_train_bc)\n",
    "\n",
    "logreg_pred = log_reg.predict(sc_val_bc)"
   ]
  },
  {
   "cell_type": "markdown",
   "id": "99f59255",
   "metadata": {},
   "source": [
    "### K-Nearest Neighbor :"
   ]
  },
  {
   "cell_type": "code",
   "execution_count": 6,
   "id": "c0af094e",
   "metadata": {},
   "outputs": [],
   "source": [
    "knn = ml_supervised.KNearestNeighbor()\n",
    "knn.fit(sc_train_bc, y_train_bc)\n",
    "\n",
    "knn_pred = knn.predict(sc_val_bc)"
   ]
  },
  {
   "cell_type": "markdown",
   "id": "1543fa26",
   "metadata": {},
   "source": [
    "# Multiclass Classification :"
   ]
  },
  {
   "cell_type": "markdown",
   "id": "dbe9397d",
   "metadata": {},
   "source": [
    "### Softmax Regression :"
   ]
  },
  {
   "cell_type": "code",
   "execution_count": 7,
   "id": "42d682d2",
   "metadata": {},
   "outputs": [],
   "source": [
    "sr = ml_supervised.SoftmaxRegression()\n",
    "sr.fit(sc_train_iris, y_train_iris)\n",
    "\n",
    "sr_pred = sr.predict(sc_val_iris)"
   ]
  }
 ],
 "metadata": {
  "kernelspec": {
   "display_name": "Python 3",
   "language": "python",
   "name": "python3"
  },
  "language_info": {
   "codemirror_mode": {
    "name": "ipython",
    "version": 3
   },
   "file_extension": ".py",
   "mimetype": "text/x-python",
   "name": "python",
   "nbconvert_exporter": "python",
   "pygments_lexer": "ipython3",
   "version": "3.8.8"
  }
 },
 "nbformat": 4,
 "nbformat_minor": 5
}
