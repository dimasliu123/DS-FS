{
 "cells": [
  {
   "cell_type": "code",
   "execution_count": 1,
   "id": "feb8c5c9",
   "metadata": {},
   "outputs": [],
   "source": [
    "import numpy as np\n",
    "from algo import nn, nn_activation\n",
    "from algo.preprocess import OneHot, MinMax\n",
    "from sklearn.datasets import load_iris\n",
    "from sklearn.model_selection import train_test_split"
   ]
  },
  {
   "cell_type": "code",
   "execution_count": 2,
   "id": "3b1eee64",
   "metadata": {},
   "outputs": [],
   "source": [
    "iris = load_iris()\n",
    "X, y = iris.data, iris.target\n",
    "\n",
    "X_train, X_val, y_train, y_val = train_test_split(X, y, test_size=0.10, random_state=2022)"
   ]
  },
  {
   "cell_type": "code",
   "execution_count": 3,
   "id": "97c5bbf2",
   "metadata": {},
   "outputs": [],
   "source": [
    "sc = MinMax()\n",
    "sc.calc(X_train)\n",
    "\n",
    "sc_train = sc.scale(X_train)\n",
    "sc_val = sc.scale(X_val)\n",
    "\n",
    "ohe = OneHot()\n",
    "ohe.calc(y_train)\n",
    "\n",
    "ohe_train = ohe.scale(y_train)\n",
    "ohe_val = ohe.scale(y_val)"
   ]
  },
  {
   "cell_type": "markdown",
   "id": "98963350",
   "metadata": {},
   "source": [
    "## Initialize Weights :"
   ]
  },
  {
   "cell_type": "code",
   "execution_count": 4,
   "id": "27d3ef09",
   "metadata": {},
   "outputs": [],
   "source": [
    "input_shape = X.shape[1]\n",
    "out_shape = len(np.unique(y))\n",
    "layer_nodes = [32, 16]\n",
    "\n",
    "w1, b1 = nn.Linear(input_shape, layer_nodes[0]).init_weights()\n",
    "w2, b2 = nn.Linear(layer_nodes[0], layer_nodes[1]).init_weights()\n",
    "w_out, b_out = nn.Linear(layer_nodes[1], out_shape).init_weights()"
   ]
  },
  {
   "cell_type": "markdown",
   "id": "5464b8f8",
   "metadata": {},
   "source": [
    "## Feedforward :"
   ]
  },
  {
   "cell_type": "code",
   "execution_count": 5,
   "id": "29bba1a9",
   "metadata": {},
   "outputs": [],
   "source": [
    "z1 = np.matmul(sc_train, w1) + b1\n",
    "a1 = nn_activation.ReLU(z1).forward()\n",
    "\n",
    "z2 = np.matmul(a1, w2) + b2\n",
    "a2 = nn_activation.ReLU(z2).forward()\n",
    "\n",
    "z_out = np.matmul(a2, w_out) + b_out\n",
    "y_hat = nn_activation.Softmax(z_out).forward()"
   ]
  },
  {
   "cell_type": "markdown",
   "id": "4eced5cb",
   "metadata": {},
   "source": [
    "## Backpropagation :"
   ]
  },
  {
   "cell_type": "code",
   "execution_count": null,
   "id": "cb0f8b39",
   "metadata": {},
   "outputs": [],
   "source": []
  },
  {
   "cell_type": "markdown",
   "id": "98bf503f",
   "metadata": {},
   "source": [
    "# Loss :"
   ]
  }
 ],
 "metadata": {
  "kernelspec": {
   "display_name": "Python 3",
   "language": "python",
   "name": "python3"
  },
  "language_info": {
   "codemirror_mode": {
    "name": "ipython",
    "version": 3
   },
   "file_extension": ".py",
   "mimetype": "text/x-python",
   "name": "python",
   "nbconvert_exporter": "python",
   "pygments_lexer": "ipython3",
   "version": "3.8.8"
  }
 },
 "nbformat": 4,
 "nbformat_minor": 5
}
