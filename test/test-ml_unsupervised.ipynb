{
 "cells": [
  {
   "cell_type": "code",
   "execution_count": 1,
   "id": "1f487ff8",
   "metadata": {},
   "outputs": [],
   "source": [
    "import numpy as np\n",
    "from sklearn.datasets import load_iris\n",
    "from sklearn.model_selection import train_test_split"
   ]
  },
  {
   "cell_type": "code",
   "execution_count": 2,
   "id": "8b317426",
   "metadata": {},
   "outputs": [],
   "source": [
    "def __one_hot(y):\n",
    "    zero = np.zeros((len(y), len(np.unique(y))))\n",
    "    zero[np.arange(len(y)), y] = 1\n",
    "    return zero"
   ]
  },
  {
   "cell_type": "code",
   "execution_count": 3,
   "id": "ddb8abd1",
   "metadata": {},
   "outputs": [],
   "source": [
    "data = load_iris()\n",
    "X, y = data.data, data.target\n",
    "y_ohe = __one_hot(y)"
   ]
  },
  {
   "cell_type": "code",
   "execution_count": 4,
   "id": "33c23f09",
   "metadata": {},
   "outputs": [],
   "source": [
    "X_train, X_test, y_train, y_test = train_test_split(X, y, test_size=0.10, random_state=2022)"
   ]
  },
  {
   "cell_type": "code",
   "execution_count": 10,
   "id": "07c8cefc",
   "metadata": {},
   "outputs": [],
   "source": [
    "def __euclidean_distance(p, q):\n",
    "    dist =0.\n",
    "    for i in range(len(p)):\n",
    "        dist +=  (p[i] - q[i]) ** 2 \n",
    "    return np.sqrt(dist)"
   ]
  },
  {
   "cell_type": "code",
   "execution_count": 11,
   "id": "b669b073",
   "metadata": {},
   "outputs": [
    {
     "data": {
      "text/plain": [
       "array([4.74130784, 2.46981781, 8.33486653, 3.36749165])"
      ]
     },
     "execution_count": 11,
     "metadata": {},
     "output_type": "execute_result"
    }
   ],
   "source": [
    "__euclidean_distance(X_test, X_train)"
   ]
  },
  {
   "cell_type": "code",
   "execution_count": null,
   "id": "f0e73640",
   "metadata": {},
   "outputs": [],
   "source": [
    "def get_best_match_units():"
   ]
  },
  {
   "cell_type": "code",
   "execution_count": 22,
   "id": "4e464495",
   "metadata": {},
   "outputs": [],
   "source": [
    "def random_codebook(train):\n",
    "    n_records = len(train)\n",
    "    n_features = len(train[0])\n",
    "    codebook = [train[random.randrange(n_records)][i] for i in range(n_features)]\n",
    "    return codebook\n"
   ]
  },
  {
   "cell_type": "code",
   "execution_count": 21,
   "id": "450b23cf",
   "metadata": {},
   "outputs": [
    {
     "data": {
      "text/plain": [
       "[6.0, 3.1, 1.0, 1.8]"
      ]
     },
     "execution_count": 21,
     "metadata": {},
     "output_type": "execute_result"
    }
   ],
   "source": []
  },
  {
   "cell_type": "code",
   "execution_count": 16,
   "id": "299c689a",
   "metadata": {},
   "outputs": [],
   "source": [
    "import random"
   ]
  },
  {
   "cell_type": "code",
   "execution_count": null,
   "id": "c4730163",
   "metadata": {},
   "outputs": [],
   "source": []
  }
 ],
 "metadata": {
  "kernelspec": {
   "display_name": "Python 3",
   "language": "python",
   "name": "python3"
  },
  "language_info": {
   "codemirror_mode": {
    "name": "ipython",
    "version": 3
   },
   "file_extension": ".py",
   "mimetype": "text/x-python",
   "name": "python",
   "nbconvert_exporter": "python",
   "pygments_lexer": "ipython3",
   "version": "3.8.8"
  }
 },
 "nbformat": 4,
 "nbformat_minor": 5
}
