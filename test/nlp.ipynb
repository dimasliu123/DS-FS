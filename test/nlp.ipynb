{
 "cells": [
  {
   "cell_type": "code",
   "execution_count": 1,
   "id": "68a42352",
   "metadata": {},
   "outputs": [],
   "source": [
    "import numpy as np"
   ]
  },
  {
   "cell_type": "code",
   "execution_count": 40,
   "id": "3a6cd661",
   "metadata": {},
   "outputs": [],
   "source": [
    "corpus = [\"QWERETYUIOPASasDFGHJKLZXCVBNM\", \"qwertyuiopasdfghjklzxcvbnm\", \"1234567890  \", \"!@#$%^&*()\"]"
   ]
  },
  {
   "cell_type": "code",
   "execution_count": 30,
   "id": "03865b3d",
   "metadata": {},
   "outputs": [
    {
     "data": {
      "text/plain": [
       "{'QWERETYUIOPASDFGHJKLZXCVBNM': 0,\n",
       " 'qwertyuiopasdfghjklzxcvbnm': 1,\n",
       " '1234567890  ': 2,\n",
       " '!@#$%^&*()': 3}"
      ]
     },
     "execution_count": 30,
     "metadata": {},
     "output_type": "execute_result"
    }
   ],
   "source": [
    "dict((c, i) for i, c in enumerate(test_text))"
   ]
  },
  {
   "cell_type": "code",
   "execution_count": 48,
   "id": "7a47c87e",
   "metadata": {},
   "outputs": [],
   "source": [
    "chars = sorted(list(set(corpus)))"
   ]
  },
  {
   "cell_type": "code",
   "execution_count": 60,
   "id": "6f5e804d",
   "metadata": {},
   "outputs": [],
   "source": [
    "for i in chars:\n",
    "    z = dict((c, i) for c, i in enumerate(i))"
   ]
  },
  {
   "cell_type": "code",
   "execution_count": 61,
   "id": "6d263b2f",
   "metadata": {},
   "outputs": [
    {
     "data": {
      "text/plain": [
       "{0: 'q',\n",
       " 1: 'w',\n",
       " 2: 'e',\n",
       " 3: 'r',\n",
       " 4: 't',\n",
       " 5: 'y',\n",
       " 6: 'u',\n",
       " 7: 'i',\n",
       " 8: 'o',\n",
       " 9: 'p',\n",
       " 10: 'a',\n",
       " 11: 's',\n",
       " 12: 'd',\n",
       " 13: 'f',\n",
       " 14: 'g',\n",
       " 15: 'h',\n",
       " 16: 'j',\n",
       " 17: 'k',\n",
       " 18: 'l',\n",
       " 19: 'z',\n",
       " 20: 'x',\n",
       " 21: 'c',\n",
       " 22: 'v',\n",
       " 23: 'b',\n",
       " 24: 'n',\n",
       " 25: 'm'}"
      ]
     },
     "execution_count": 61,
     "metadata": {},
     "output_type": "execute_result"
    }
   ],
   "source": [
    "z"
   ]
  },
  {
   "cell_type": "code",
   "execution_count": 52,
   "id": "29187f81",
   "metadata": {},
   "outputs": [
    {
     "data": {
      "text/plain": [
       "4"
      ]
     },
     "execution_count": 52,
     "metadata": {},
     "output_type": "execute_result"
    }
   ],
   "source": [
    "len([i.split() for i in corpus])"
   ]
  },
  {
   "cell_type": "code",
   "execution_count": null,
   "id": "39dfa447",
   "metadata": {},
   "outputs": [],
   "source": []
  },
  {
   "cell_type": "code",
   "execution_count": 18,
   "id": "d6846abd",
   "metadata": {},
   "outputs": [
    {
     "data": {
      "text/plain": [
       "{1: 'Life is good. Appreciate it.'}"
      ]
     },
     "execution_count": 18,
     "metadata": {},
     "output_type": "execute_result"
    }
   ],
   "source": [
    "z"
   ]
  },
  {
   "cell_type": "code",
   "execution_count": 10,
   "id": "79e2543f",
   "metadata": {
    "scrolled": true
   },
   "outputs": [
    {
     "ename": "TypeError",
     "evalue": "dict expected at most 1 argument, got 2",
     "output_type": "error",
     "traceback": [
      "\u001b[0;31m---------------------------------------------------------------------------\u001b[0m",
      "\u001b[0;31mTypeError\u001b[0m                                 Traceback (most recent call last)",
      "\u001b[0;32m<ipython-input-10-aff15920f2e3>\u001b[0m in \u001b[0;36m<module>\u001b[0;34m\u001b[0m\n\u001b[0;32m----> 1\u001b[0;31m \u001b[0;34m[\u001b[0m\u001b[0mdict\u001b[0m\u001b[0;34m(\u001b[0m\u001b[0mc\u001b[0m\u001b[0;34m,\u001b[0m \u001b[0mi\u001b[0m \u001b[0;34m)\u001b[0m \u001b[0;32mfor\u001b[0m \u001b[0mc\u001b[0m\u001b[0;34m,\u001b[0m \u001b[0mi\u001b[0m \u001b[0;32min\u001b[0m \u001b[0menumerate\u001b[0m\u001b[0;34m(\u001b[0m\u001b[0mtest_text\u001b[0m\u001b[0;34m)\u001b[0m\u001b[0;34m]\u001b[0m\u001b[0;34m\u001b[0m\u001b[0;34m\u001b[0m\u001b[0m\n\u001b[0m",
      "\u001b[0;32m<ipython-input-10-aff15920f2e3>\u001b[0m in \u001b[0;36m<listcomp>\u001b[0;34m(.0)\u001b[0m\n\u001b[0;32m----> 1\u001b[0;31m \u001b[0;34m[\u001b[0m\u001b[0mdict\u001b[0m\u001b[0;34m(\u001b[0m\u001b[0mc\u001b[0m\u001b[0;34m,\u001b[0m \u001b[0mi\u001b[0m \u001b[0;34m)\u001b[0m \u001b[0;32mfor\u001b[0m \u001b[0mc\u001b[0m\u001b[0;34m,\u001b[0m \u001b[0mi\u001b[0m \u001b[0;32min\u001b[0m \u001b[0menumerate\u001b[0m\u001b[0;34m(\u001b[0m\u001b[0mtest_text\u001b[0m\u001b[0;34m)\u001b[0m\u001b[0;34m]\u001b[0m\u001b[0;34m\u001b[0m\u001b[0;34m\u001b[0m\u001b[0m\n\u001b[0m",
      "\u001b[0;31mTypeError\u001b[0m: dict expected at most 1 argument, got 2"
     ]
    }
   ],
   "source": [
    "[dict(c, i ) for c, i in enumerate(test_text)]"
   ]
  },
  {
   "cell_type": "code",
   "execution_count": null,
   "id": "3cd32f43",
   "metadata": {},
   "outputs": [],
   "source": [
    "class Tokenizer :\n",
    "    def __init__(self, char_level : bool):\n",
    "        self.char_level =char_level\n",
    "    \n",
    "    def fit(self, text):\n",
    "        if self.char_level :\n",
    "            z = "
   ]
  }
 ],
 "metadata": {
  "kernelspec": {
   "display_name": "Python 3",
   "language": "python",
   "name": "python3"
  },
  "language_info": {
   "codemirror_mode": {
    "name": "ipython",
    "version": 3
   },
   "file_extension": ".py",
   "mimetype": "text/x-python",
   "name": "python",
   "nbconvert_exporter": "python",
   "pygments_lexer": "ipython3",
   "version": "3.8.8"
  }
 },
 "nbformat": 4,
 "nbformat_minor": 5
}
