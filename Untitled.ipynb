{
 "cells": [
  {
   "cell_type": "code",
   "execution_count": 9,
   "id": "9f2e7eda",
   "metadata": {},
   "outputs": [],
   "source": [
    "import numpy as np\n",
    "from sklearn.datasets import load_breast_cancer\n",
    "from algo.preprocess import OneHot, MinMax\n",
    "from algo.nn import activation as F\n",
    "from algo.nn.loss import BinaryCrossEntropy\n",
    "from algo.nn.layers import Linear, Flatten"
   ]
  },
  {
   "cell_type": "code",
   "execution_count": 2,
   "id": "9ab4bb76",
   "metadata": {},
   "outputs": [],
   "source": [
    "def load_data():\n",
    "    data = load_breast_cancer()\n",
    "    return data.data, data.target\n",
    "\n",
    "def split_data(X, y, test_size, shuffle=True):\n",
    "    assert len(X) == len(y), f\"Feature has {len(X)} while label has {len(y)}\"\n",
    "    if shuffle :\n",
    "        perm = np.random.permutation(len(X))\n",
    "        X[perm], y[perm] = X, y\n",
    "\n",
    "    sizes = int(len(X) * test_size)\n",
    "    X_train, X_test = X[sizes:], X[:sizes]\n",
    "    y_train, y_test = y[sizes:], y[:sizes]\n",
    "    return X_train, X_test, y_train, y_test"
   ]
  },
  {
   "cell_type": "code",
   "execution_count": 3,
   "id": "2e2b33b4",
   "metadata": {},
   "outputs": [],
   "source": [
    "class Model:\n",
    "    def __init__(self):\n",
    "        self.params = vars(self)\n",
    "        self.x1 = Linear(30, 32)\n",
    "        self.x2 = Linear(32, 16)\n",
    "        self.x3 = Linear(16, 2)\n",
    "\n",
    "    def forward(self, inputs):\n",
    "        x = F.relu(self.x1(inputs))\n",
    "        x = F.relu(self.x2(x))\n",
    "        return F.sigmoid(self.x3(x))\n",
    "\n",
    "    def backward(self):\n",
    "        pass"
   ]
  },
  {
   "cell_type": "code",
   "execution_count": 4,
   "id": "9c697537",
   "metadata": {},
   "outputs": [],
   "source": [
    "model = Model()"
   ]
  },
  {
   "cell_type": "code",
   "execution_count": 5,
   "id": "60b95df0",
   "metadata": {},
   "outputs": [
    {
     "name": "stdout",
     "output_type": "stream",
     "text": [
      "<algo.nn.layers.Linear object at 0x7fc9b9c74b50>\n"
     ]
    }
   ],
   "source": [
    "print(model.x1)"
   ]
  },
  {
   "cell_type": "code",
   "execution_count": 6,
   "id": "bb2aeb5f",
   "metadata": {},
   "outputs": [],
   "source": [
    "x = Linear(30, 32)"
   ]
  },
  {
   "cell_type": "code",
   "execution_count": 11,
   "id": "9c961824",
   "metadata": {},
   "outputs": [],
   "source": [
    "x1 = Flatten(30, 32)"
   ]
  },
  {
   "cell_type": "code",
   "execution_count": 13,
   "id": "8a8e6c46",
   "metadata": {},
   "outputs": [
    {
     "data": {
      "text/plain": [
       "<algo.nn.layers.Flatten at 0x7fc9b9f138b0>"
      ]
     },
     "execution_count": 13,
     "metadata": {},
     "output_type": "execute_result"
    }
   ],
   "source": [
    "x1"
   ]
  },
  {
   "cell_type": "code",
   "execution_count": 16,
   "id": "5c8234b9",
   "metadata": {
    "scrolled": true
   },
   "outputs": [
    {
     "ename": "TypeError",
     "evalue": "issubclass() arg 1 must be a class",
     "output_type": "error",
     "traceback": [
      "\u001b[0;31m---------------------------------------------------------------------------\u001b[0m",
      "\u001b[0;31mTypeError\u001b[0m                                 Traceback (most recent call last)",
      "Input \u001b[0;32mIn [16]\u001b[0m, in \u001b[0;36m<cell line: 1>\u001b[0;34m()\u001b[0m\n\u001b[0;32m----> 1\u001b[0m \u001b[38;5;28;43missubclass\u001b[39;49m\u001b[43m(\u001b[49m\u001b[43mx\u001b[49m\u001b[43m,\u001b[49m\u001b[43m \u001b[49m\u001b[43mFlatten\u001b[49m\u001b[43m)\u001b[49m\n",
      "\u001b[0;31mTypeError\u001b[0m: issubclass() arg 1 must be a class"
     ]
    }
   ],
   "source": [
    "issubclass(x, Flatten)"
   ]
  },
  {
   "cell_type": "code",
   "execution_count": 8,
   "id": "1bfe6afd",
   "metadata": {},
   "outputs": [
    {
     "name": "stdout",
     "output_type": "stream",
     "text": [
      "0.6935292304717305\n",
      "[[0.50267671 0.50104387]\n",
      " [0.50332745 0.50063253]]\n"
     ]
    }
   ],
   "source": [
    "bce = BinaryCrossEntropy()\n",
    "X, y = load_data()\n",
    "X_train, X_test, y_train, y_test = split_data(X, y, test_size=0.20, shuffle=True)\n",
    "\n",
    "sc = MinMax()\n",
    "ohe = OneHot()\n",
    "sc.calc(X_train)\n",
    "ohe.calc(y_train)\n",
    "\n",
    "sc_train = sc.scale(X_train)\n",
    "sc_val = sc.scale(X_test)\n",
    "ohe_train = ohe.scale(y_train)\n",
    "ohe_val = ohe.scale(y_test)\n",
    "\n",
    "model = Model()\n",
    "y_hat = model.forward(sc_train)\n",
    "loss = bce(ohe_train, y_hat)\n",
    "print(loss)\n",
    "\n",
    "print(y_hat[0:2])"
   ]
  }
 ],
 "metadata": {
  "kernelspec": {
   "display_name": "Python 3",
   "language": "python",
   "name": "python3"
  },
  "language_info": {
   "codemirror_mode": {
    "name": "ipython",
    "version": 3
   },
   "file_extension": ".py",
   "mimetype": "text/x-python",
   "name": "python",
   "nbconvert_exporter": "python",
   "pygments_lexer": "ipython3",
   "version": "3.8.8"
  }
 },
 "nbformat": 4,
 "nbformat_minor": 5
}
