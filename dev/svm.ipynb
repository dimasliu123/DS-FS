{
 "cells": [
  {
   "cell_type": "code",
   "execution_count": null,
   "id": "bd49f875",
   "metadata": {},
   "outputs": [],
   "source": [
    "import numpy as np\n",
    "import matplotlib.pyplot as plt\n",
    "from sklearn.preprocessing import StandardScaler\n",
    "from sklearn.datasets import load_breast_cancer\n",
    "\n",
    "np.random.seed(2022)\n",
    "%matplotlib inline\n",
    "plt.style.use(\"seaborn-darkgrid\")"
   ]
  },
  {
   "cell_type": "code",
   "execution_count": null,
   "id": "46cc3492",
   "metadata": {},
   "outputs": [],
   "source": [
    "%%timeit\n",
    "X = np.random.normal(0, 0.05, size=(10000, 1000))\n",
    "for i in range(200):\n",
    "    np.matmul(X, X.T)"
   ]
  },
  {
   "cell_type": "code",
   "execution_count": null,
   "id": "a6254cfb",
   "metadata": {},
   "outputs": [],
   "source": [
    "%%timeit\n",
    "X = np.random.normal(0, 0.05, size=(10000, 1000))\n",
    "for i in range(200):\n",
    "    np.dot(X, X.T)"
   ]
  },
  {
   "cell_type": "markdown",
   "id": "b0df0053",
   "metadata": {},
   "source": [
    "- `np.matmul => 608 ms ± 29.9 ms per loop (mean ± std. dev. of 7 runs, 1 loop each) # (100, 100)`\n",
    "- `np.dot => 808 ms ± 168 ms per loop (mean ± std. dev. of 7 runs, 1 loop each) # (100, 100)`\n",
    "\n",
    "- `np.matmul => 3.09 s ± 116 ms per loop (mean ± std. dev. of 7 runs, 1 loop each) # (1000, 100)` \n",
    "- `np.dot => 3.41 s ± 120 ms per loop (mean ± std. dev. of 7 runs, 1 loop each) # (1000, 100)`"
   ]
  },
  {
   "cell_type": "code",
   "execution_count": null,
   "id": "b4e06d5d",
   "metadata": {},
   "outputs": [],
   "source": [
    "data = load_breast_cancer()\n",
    "X, y = data.data, data.target\n",
    "\n",
    "size = int( len(X) * 0.15 )\n",
    "perm = np.random.permutation(len(X))\n",
    "\n",
    "X, y = X[perm], y[perm]\n",
    "X_train, X_test= X[size:], X[:size]\n",
    "y_train, y_test = y[size:], y[:size]"
   ]
  },
  {
   "cell_type": "code",
   "execution_count": null,
   "id": "6d4e9b28",
   "metadata": {},
   "outputs": [],
   "source": [
    "def rbf():\n",
    "    pass\n",
    "\n",
    "# hyperplane equation :\n",
    "# b -> a form of threshold, w -> normal direction\n",
    "# Given a data point w, if w * x is evaluated to to be bigger than b, it belongs to a class. \n",
    "# If it is evaluated to be less than b, then it belongs to another class.\n",
    "# transpose(w) * x + b = 1\n",
    "# transpose(w) * x + b = -1\n",
    "# transpose(w) * x + b = 0\n",
    "# objective f(x) => m = 2 / det(w)\n",
    "# C is a hyperparams l2 ** 2 penalty"
   ]
  },
  {
   "cell_type": "code",
   "execution_count": null,
   "id": "c34634b1",
   "metadata": {},
   "outputs": [],
   "source": [
    "x_sum = np.square(X_train).sum(axis=0)\n",
    "\n",
    "\n",
    "dir_vec = []\n",
    "for i in range(len(x_sum)):\n",
    "    dir_vec.append(X_train[:,i] / x_sum)"
   ]
  },
  {
   "cell_type": "code",
   "execution_count": null,
   "id": "8780b1cb",
   "metadata": {},
   "outputs": [],
   "source": [
    "np.abs(X_train / x_sum)"
   ]
  },
  {
   "cell_type": "code",
   "execution_count": null,
   "id": "0dcda10a",
   "metadata": {},
   "outputs": [],
   "source": []
  }
 ],
 "metadata": {
  "kernelspec": {
   "display_name": "Python 3",
   "language": "python",
   "name": "python3"
  },
  "language_info": {
   "codemirror_mode": {
    "name": "ipython",
    "version": 3
   },
   "file_extension": ".py",
   "mimetype": "text/x-python",
   "name": "python",
   "nbconvert_exporter": "python",
   "pygments_lexer": "ipython3",
   "version": "3.8.8"
  }
 },
 "nbformat": 4,
 "nbformat_minor": 5
}
