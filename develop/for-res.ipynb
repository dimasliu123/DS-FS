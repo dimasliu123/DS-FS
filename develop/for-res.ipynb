{
 "cells": [
  {
   "cell_type": "code",
   "execution_count": 1,
   "id": "666e1851",
   "metadata": {},
   "outputs": [],
   "source": [
    "import numpy as np\n",
    "import matplotlib.pyplot as plt\n",
    "from sklearn.preprocessing import MinMaxScaler\n",
    "from sklearn.model_selection import train_test_split\n",
    "from sklearn.datasets import load_breast_cancer\n",
    "\n",
    "np.random.seed(2022)\n",
    "%matplotlib inline\n",
    "plt.style.use(\"ggplot\")"
   ]
  },
  {
   "cell_type": "code",
   "execution_count": 2,
   "id": "c32654c4",
   "metadata": {},
   "outputs": [],
   "source": [
    "data = load_breast_cancer()\n",
    "\n",
    "X, y = data.data, data.target\n",
    "X_train, X_val, y_train, y_val = train_test_split(X, y, test_size=0.10, random_state=42)\n",
    "\n",
    "sc = MinMaxScaler()\n",
    "sc.fit(X_train)\n",
    "\n",
    "sc_train, sc_val = sc.transform(X_train), sc.transform(X_val)"
   ]
  },
  {
   "cell_type": "code",
   "execution_count": 3,
   "id": "e6b0eae2",
   "metadata": {
    "scrolled": true
   },
   "outputs": [
    {
     "name": "stdout",
     "output_type": "stream",
     "text": [
      "[-1.63547129e-03 -3.14063049e-06 -1.28872103e-03 -1.50008661e-03\n",
      "  6.18025314e-04 -4.33731059e-05  1.32552409e-03  4.91506902e-04\n",
      "  1.32321041e-03  7.37116431e-04  1.10451140e-03  1.09189356e-03\n",
      "  1.11193195e-03  1.52348112e-03 -4.39851877e-04 -1.72079004e-05\n",
      " -5.34968418e-04  3.98097754e-04  1.59176546e-03 -1.34522307e-03\n",
      "  8.14020708e-04 -6.91668420e-04 -6.71082163e-04  8.41578242e-04\n",
      " -1.60445424e-03  7.91247866e-05  1.21478616e-03 -3.70523866e-04\n",
      " -9.59360502e-04 -8.27309858e-05] [0.00021557]\n"
     ]
    }
   ],
   "source": [
    "w = np.random.uniform(low=-0.05, high=0.05, size=(X.shape[1])) / X.shape[1]\n",
    "b = np.random.uniform(low=-0.05, high=0.05, size=(1)) / X.shape[1]\n",
    "print(w, b)"
   ]
  },
  {
   "cell_type": "markdown",
   "id": "eb7e8d4c",
   "metadata": {},
   "source": [
    "## Gradient descent based method :"
   ]
  },
  {
   "cell_type": "code",
   "execution_count": 4,
   "id": "b987064a",
   "metadata": {},
   "outputs": [],
   "source": [
    "def forward(x, w, b):\n",
    "    return np.dot(x, w) + b\n",
    "\n",
    "def sigmoid(x):\n",
    "    return 1 / ( 1 + np.exp(-x))\n",
    "\n",
    "def grad_descent(x, w, y_true, y_hat):\n",
    "    dw = (1/len(y_true)) * np.dot(x.T, (y_hat - y_true))\n",
    "    db = (1 / len(y_true) *np.sum(y_hat - y_true))\n",
    "    return dw, db\n",
    "\n",
    "def loss_func(y_true, y_hat, epsilon=1e-6):\n",
    "    y_hat = np.clip(y_hat, a_min = epsilon, a_max= 1 - epsilon)\n",
    "    f1 = y_true * np.log(y_hat)\n",
    "    f2 = (1 - y_true ) * np.log( 1 - y_hat + epsilon) \n",
    "    f = f1 + f2\n",
    "    return - np.mean(f)\n",
    "\n",
    "def accuracy(y_true, y_hat):\n",
    "    return np.sum(y_true == y_hat) / len(y_true)\n",
    "\n",
    "def update(w, b, dw, db, lr):\n",
    "    w = w - lr * dw\n",
    "    b = b - lr * db\n",
    "    return w, b\n",
    "\n",
    "def argmaxThis(pred):\n",
    "    argmaxed = []\n",
    "    for i in range(len(pred)):\n",
    "        if pred[i] > 0.5:\n",
    "            argmaxed.append(1)\n",
    "        else : \n",
    "            argmaxed.append(0)\n",
    "    return argmaxed"
   ]
  },
  {
   "cell_type": "code",
   "execution_count": 5,
   "id": "595aea9e",
   "metadata": {},
   "outputs": [],
   "source": [
    "loss_hist, val_loss_hist = [], []\n",
    "\n",
    "for _ in range(1300):\n",
    "    y_hat = sigmoid(forward(sc_train, w, b))\n",
    "    dw, db = grad_descent(sc_train, w, y_train, y_hat)\n",
    "    w, b = update(w, b, dw, db, 0.01)\n",
    "    loss = loss_func(y_train, y_hat)\n",
    "    val_hat = sigmoid(forward(sc_val, w, b))\n",
    "    val_loss = loss_func(y_val, val_hat)\n",
    "    loss_hist.append(loss)\n",
    "    val_loss_hist.append(val_loss)"
   ]
  },
  {
   "cell_type": "code",
   "execution_count": 6,
   "id": "181d16df",
   "metadata": {},
   "outputs": [],
   "source": [
    "train_pred = sigmoid(np.dot(sc_train, w) + b)\n",
    "train_acc = accuracy(y_train, argmaxThis(train_pred))\n",
    "\n",
    "val_pred =  sigmoid(np.dot(sc_val, w) + b)\n",
    "val_acc = accuracy(y_val, argmaxThis(val_pred))"
   ]
  },
  {
   "cell_type": "code",
   "execution_count": 7,
   "id": "51c805ce",
   "metadata": {},
   "outputs": [
    {
     "name": "stdout",
     "output_type": "stream",
     "text": [
      "Train Accuracy :  0.91796875\n",
      "Validation Accuracy :  0.9473684210526315\n"
     ]
    },
    {
     "data": {
      "image/png": "[encoded data removed]",
      "text/plain": [
       "<Figure size 432x288 with 1 Axes>"
      ]
     },
     "metadata": {},
     "output_type": "display_data"
    }
   ],
   "source": [
    "print(\"Train Accuracy : \", train_acc)\n",
    "print(\"Validation Accuracy : \", val_acc)\n",
    "\n",
    "plt.title(\"Loss Steps\")\n",
    "plt.plot(loss_hist, color=\"b\", label=\"Train\")\n",
    "plt.plot(val_loss_hist, color=\"r\", label=\"Validation\")\n",
    "plt.legend();"
   ]
  }
 ],
 "metadata": {
  "kernelspec": {
   "display_name": "Python 3",
   "language": "python",
   "name": "python3"
  },
  "language_info": {
   "codemirror_mode": {
    "name": "ipython",
    "version": 3
   },
   "file_extension": ".py",
   "mimetype": "text/x-python",
   "name": "python",
   "nbconvert_exporter": "python",
   "pygments_lexer": "ipython3",
   "version": "3.8.8"
  }
 },
 "nbformat": 4,
 "nbformat_minor": 5
}
