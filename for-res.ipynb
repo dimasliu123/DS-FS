{
 "cells": [
  {
   "cell_type": "code",
   "execution_count": 1,
   "id": "666e1851",
   "metadata": {},
   "outputs": [],
   "source": [
    "import numpy as np\n",
    "import matplotlib.pyplot as plt\n",
    "from algo.preprocess import Standardize\n",
    "from sklearn.model_selection import train_test_split\n",
    "from sklearn.datasets import load_breast_cancer\n",
    "%matplotlib inline\n",
    "plt.style.use(\"ggplot\")"
   ]
  },
  {
   "cell_type": "code",
   "execution_count": 2,
   "id": "c32654c4",
   "metadata": {},
   "outputs": [],
   "source": [
    "data = load_breast_cancer()\n",
    "\n",
    "X, y = data.data, data.target\n",
    "X_train, X_val, y_train, y_val = train_test_split(X, y, test_size=0.10, random_state=42)\n",
    "\n",
    "sc = Standardize()\n",
    "sc.calc(X_train)\n",
    "\n",
    "sc_train, sc_val = sc.scale(X_train), sc.scale(X_val)"
   ]
  },
  {
   "cell_type": "code",
   "execution_count": 3,
   "id": "e6b0eae2",
   "metadata": {
    "scrolled": true
   },
   "outputs": [
    {
     "name": "stdout",
     "output_type": "stream",
     "text": [
      "[-2.63949543e-05 -1.37450712e-02 -6.96427808e-03  9.92343079e-02\n",
      "  1.41054663e-02  3.80404329e-02  1.50490803e-02  2.70148634e-02\n",
      "  1.86748644e-02  1.88906697e-02 -4.51065963e-03 -1.15297163e-01\n",
      "  5.71380012e-02 -7.67827143e-02 -4.31876009e-02  5.08272468e-02\n",
      "  5.16981942e-02 -4.12246114e-02  9.45242821e-04 -1.91671778e-02\n",
      " -1.52092737e-02  4.98645753e-02 -6.36369203e-03 -7.37942951e-02\n",
      " -9.70453164e-02  4.16824462e-02 -2.83608944e-02  5.87243478e-02\n",
      "  1.59534416e-02  9.54352139e-03] [0.01846351]\n"
     ]
    }
   ],
   "source": [
    "w = np.random.normal(loc=0., scale=0.05, size=(X.shape[1]))\n",
    "b = np.random.normal(loc=0., scale=0.05, size=(1))\n",
    "print(w, b)"
   ]
  },
  {
   "cell_type": "markdown",
   "id": "eb7e8d4c",
   "metadata": {},
   "source": [
    "## Gradient descent based method :"
   ]
  },
  {
   "cell_type": "code",
   "execution_count": null,
   "id": "8a2a1cf2",
   "metadata": {},
   "outputs": [],
   "source": [
    "def sigmoid(x):\n",
    "    return 1 / ( 1 + np.exp(-x))\n",
    "\n",
    "def grad_descent(x, w, y_true, y_hat):\n",
    "    dw = (1/len(y_true)) * np.dot(x.T, (y_hat - y_true))\n",
    "    db = (1 / len(y_true) *np.sum(y_hat - y_true))\n",
    "    return dw, db\n",
    "\n",
    "def loss_func(y_true, y_hat, epsilon=1e-6):\n",
    "    y_hat = np.clip(y_hat, a_min = epsilon, a_max= 1 - epsilon)\n",
    "    f1 = y_true * np.log(y_hat)\n",
    "    f2 = (1 - y_true ) * np.log( 1 - y_hat + epsilon) \n",
    "    f = f1 + f2\n",
    "    return - np.mean(f)\n",
    "\n",
    "def accuracy(y_true, y_hat):\n",
    "    return np.sum(y_true == y_hat) / len(y_true)\n",
    "\n",
    "def update(w, b, dw, db, lr):\n",
    "    w = w - lr * dw\n",
    "    b = b - lr * db\n",
    "    return w, b\n",
    "\n",
    "def argmaxThis(pred):\n",
    "    argmaxed = []\n",
    "    for i in range(len(pred)):\n",
    "        if pred[i] > 0.5:\n",
    "            argmaxed.append(1)\n",
    "        else : \n",
    "            argmaxed.append(0)\n",
    "    return argmaxed"
   ]
  },
  {
   "cell_type": "code",
   "execution_count": 4,
   "id": "b987064a",
   "metadata": {},
   "outputs": [],
   "source": [
    "def sigmoid(x):\n",
    "    return 1 / ( 1 + np.exp(-x))\n",
    "\n",
    "def grad_descent(x, w, y_true, y_hat):\n",
    "    dw = (1/len(y_true)) * np.dot(x.T, (y_hat - y_true))\n",
    "    db = (1 / len(y_true) *np.sum(y_hat - y_true))\n",
    "    return dw, db\n",
    "\n",
    "def loss_func(y_true, y_hat, epsilon=1e-6):\n",
    "    y_hat = np.clip(y_hat, a_min = epsilon, a_max= 1 - epsilon)\n",
    "    f1 = y_true * np.log(y_hat)\n",
    "    f2 = (1 - y_true ) * np.log( 1 - y_hat + epsilon) \n",
    "    f = f1 + f2\n",
    "    return - np.mean(f)\n",
    "\n",
    "def accuracy(y_true, y_hat):\n",
    "    return np.sum(y_true == y_hat) / len(y_true)\n",
    "\n",
    "def update(w, b, dw, db, lr):\n",
    "    w = w - lr * dw\n",
    "    b = b - lr * db\n",
    "    return w, b\n",
    "\n",
    "def argmaxThis(pred):\n",
    "    argmaxed = []\n",
    "    for i in range(len(pred)):\n",
    "        if pred[i] > 0.5:\n",
    "            argmaxed.append(1)\n",
    "        else : \n",
    "            argmaxed.append(0)\n",
    "    return argmaxed"
   ]
  },
  {
   "cell_type": "code",
   "execution_count": 5,
   "id": "595aea9e",
   "metadata": {},
   "outputs": [],
   "source": [
    "loss_hist, val_loss_hist = [], []\n",
    "\n",
    "for _ in range(1300):\n",
    "    y_hat = sigmoid(np.dot(sc_train, w) + b)\n",
    "    dw, db = grad_descent(sc_train, w, y_train, y_hat)\n",
    "    w, b = update(w, b, dw, db, 0.01)\n",
    "    loss = loss_func(y_train, y_hat)\n",
    "    val_hat = sigmoid(np.dot(sc_val, w) + b)\n",
    "    val_loss = loss_func(y_val, val_hat)\n",
    "    loss_hist.append(loss)\n",
    "    val_loss_hist.append(val_loss)"
   ]
  },
  {
   "cell_type": "code",
   "execution_count": 7,
   "id": "51c805ce",
   "metadata": {},
   "outputs": [
    {
     "name": "stdout",
     "output_type": "stream",
     "text": [
      "Train Accuracy :  0.984375\n",
      "Validation Accuracy :  0.9824561403508771\n"
     ]
    }
   ],
   "source": [
    "train_pred = sigmoid(np.dot(sc_train, w) + b)\n",
    "train_acc = accuracy(y_train, argmaxThis(train_pred))\n",
    "\n",
    "val_pred =  sigmoid(np.dot(sc_val, w) + b)\n",
    "val_acc = accuracy(y_val, argmaxThis(val_pred))\n",
    "\n",
    "print(\"Train Accuracy : \", train_acc)\n",
    "print(\"Validation Accuracy : \", val_acc)"
   ]
  },
  {
   "cell_type": "code",
   "execution_count": 8,
   "id": "00d55942",
   "metadata": {},
   "outputs": [
    {
     "data": {
      "image/png": "[encoded data removed]",
      "text/plain": [
       "<Figure size 576x360 with 1 Axes>"
      ]
     },
     "metadata": {},
     "output_type": "display_data"
    }
   ],
   "source": [
    "plt.figure(figsize=(8, 5))\n",
    "plt.title(\"Loss History\")\n",
    "plt.plot(loss_hist, color='b', label='Train')\n",
    "plt.plot(val_loss_hist, color='r', label='Validation')\n",
    "plt.legend();"
   ]
  },
  {
   "cell_type": "code",
   "execution_count": null,
   "id": "86d70a17",
   "metadata": {},
   "outputs": [],
   "source": []
  }
 ],
 "metadata": {
  "kernelspec": {
   "display_name": "Python 3",
   "language": "python",
   "name": "python3"
  },
  "language_info": {
   "codemirror_mode": {
    "name": "ipython",
    "version": 3
   },
   "file_extension": ".py",
   "mimetype": "text/x-python",
   "name": "python",
   "nbconvert_exporter": "python",
   "pygments_lexer": "ipython3",
   "version": "3.8.8"
  }
 },
 "nbformat": 4,
 "nbformat_minor": 5
}
